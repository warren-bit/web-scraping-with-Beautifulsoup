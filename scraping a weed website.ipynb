{
 "cells": [
  {
   "cell_type": "code",
   "execution_count": 1,
   "metadata": {},
   "outputs": [],
   "source": [
    "from bs4 import BeautifulSoup\n",
    "from urllib import request\n",
    "import requests\n",
    "import pandas as pd\n",
    "import numpy as np"
   ]
  },
  {
   "cell_type": "code",
   "execution_count": 2,
   "metadata": {},
   "outputs": [],
   "source": [
    "url = \"https://www.trulieve.com/brands\"\n",
    "r = requests.get(url)"
   ]
  },
  {
   "cell_type": "code",
   "execution_count": 3,
   "metadata": {},
   "outputs": [
    {
     "data": {
      "text/plain": [
       "'<!doctype html>\\n<!--[if lt IE 7]><html\\nclass=\"no-js lt-ie9 lt-ie8 lt-ie7\" lang=\"en\"> <![endif]-->\\n<!--[if IE 7]><html\\nclass=\"no-js lt-ie9 lt-ie8\" lang=\"en\"> <![endif]-->\\n<!--[if IE 8]><html\\nclass=\"no-js lt-ie9\" lang=\"en\"> <![endif]-->\\n<!--[if gt IE 8]><!--><html\\nclass=\"no-js\" lang=\"en\"> <!--<![endif]--><head><meta\\ncharset=\"utf-8\"><meta\\nhttp-equiv=\"X-UA-Compatible\" content=\"IE=edge\"><meta\\nname=\"viewport\" content=\"width=device-width, initial-scale=1.0\"><title>Brands | Trulieve Cannabis | Trulieve<'"
      ]
     },
     "execution_count": 3,
     "metadata": {},
     "output_type": "execute_result"
    }
   ],
   "source": [
    "r.text[0:500]"
   ]
  },
  {
   "cell_type": "code",
   "execution_count": 4,
   "metadata": {},
   "outputs": [],
   "source": [
    "soup = BeautifulSoup(r.text, \"html.parser\")"
   ]
  },
  {
   "cell_type": "code",
   "execution_count": 5,
   "metadata": {},
   "outputs": [
    {
     "data": {
      "text/plain": [
       "11"
      ]
     },
     "execution_count": 5,
     "metadata": {},
     "output_type": "execute_result"
    }
   ],
   "source": [
    "Brands = soup.find_all(\"div\", attrs= {\"class\": \"col-lg-4 col-md-4 col-sm-6 col-xs-12\"})\n",
    "len(Brands)"
   ]
  },
  {
   "cell_type": "code",
   "execution_count": 6,
   "metadata": {},
   "outputs": [
    {
     "data": {
      "text/plain": [
       "<div class=\"col-lg-4 col-md-4 col-sm-6 col-xs-12\"><div class=\"brands-listing-card\"><div class=\"listing-container\"><div class=\"brand-image\">\n",
       "<img alt=\"\" src=\"https://www.trulieve.com/files/main/_2022_08Aug_15_Trulieve_Website_Brand_Images_Alchemy_2_1.jpg\"/></div><div class=\"text-container\"><h3>Alchemy™</h3><p>Alchemy™ harnesses the entire cannabis plant, delivering a heightened experience that only our scientists can capture.</p><div class=\"brand-ctas\">\n",
       "<a class=\"button brands-listing-cta\" href=\"https://www.evolab.com/\">Learn More</a>\n",
       "<a class=\"brands-listing-shop-cta\" href=\"https://shop.trulieve.com/dispensaries/#pick-up\">Shop Now <img class=\"icon\" src=\"../../skin/img/icons/Link_Arrow.svg\"/></a></div></div></div></div></div>"
      ]
     },
     "execution_count": 6,
     "metadata": {},
     "output_type": "execute_result"
    }
   ],
   "source": [
    "first_brand = Brands[0]\n",
    "first_brand"
   ]
  },
  {
   "cell_type": "code",
   "execution_count": 7,
   "metadata": {},
   "outputs": [
    {
     "data": {
      "text/plain": [
       "'Alchemy™'"
      ]
     },
     "execution_count": 7,
     "metadata": {},
     "output_type": "execute_result"
    }
   ],
   "source": [
    "# scraping the brand\n",
    "first_brand.find(\"h3\").text"
   ]
  },
  {
   "cell_type": "code",
   "execution_count": 8,
   "metadata": {},
   "outputs": [
    {
     "data": {
      "text/plain": [
       "'https://www.evolab.com/'"
      ]
     },
     "execution_count": 8,
     "metadata": {},
     "output_type": "execute_result"
    }
   ],
   "source": [
    "# scraping the link to more info\n",
    "first_brand.div.a[\"href\"]"
   ]
  },
  {
   "cell_type": "code",
   "execution_count": 40,
   "metadata": {},
   "outputs": [
    {
     "name": "stdout",
     "output_type": "stream",
     "text": [
      "Alchemy™\n",
      "https://www.evolab.com/\n",
      "Avenue™\n",
      "https://www.avenueflowerco.com/#!\n",
      "Co2lors™\n",
      "https://www.trulieve.com/brands/co2lors\n",
      "Cultivar Collection™\n",
      "https://www.trulieve.com/brands/cultivar-collection\n",
      "Loveli™\n",
      "https://www.loveliedibles.com/\n",
      "Modern Flower™\n",
      "https://www.trulieve.com/brands/modern-flower\n",
      "Momenta™\n",
      "https://www.trulieve.com/brands/momenta\n",
      "Muse™\n",
      "https://www.trulieve.com/brands/muse\n",
      "Roll One™\n",
      "https://www.trulieve.com/brands/roll-one\n",
      "Sweet Talk™\n",
      "https://www.trulieve.com/brands/sweet-talk\n",
      "Trekkers™\n",
      "https://shop.trulieve.com/dispensaries/#pick-up\n"
     ]
    }
   ],
   "source": [
    "# looping through all brands\n",
    "records = []\n",
    "for brand in Brands:\n",
    "    brand_name = brand.find(\"h3\").text\n",
    "    more_info = brand.div.a[\"href\"]\n",
    "    records.append((brand_name.strip(brand_name[-1]),(more_info))\n",
    "    print(brand_name)\n",
    "    print(more_info)\n"
   ]
  },
  {
   "cell_type": "code",
   "execution_count": 41,
   "metadata": {},
   "outputs": [
    {
     "data": {
      "text/html": [
       "<div>\n",
       "<style scoped>\n",
       "    .dataframe tbody tr th:only-of-type {\n",
       "        vertical-align: middle;\n",
       "    }\n",
       "\n",
       "    .dataframe tbody tr th {\n",
       "        vertical-align: top;\n",
       "    }\n",
       "\n",
       "    .dataframe thead th {\n",
       "        text-align: right;\n",
       "    }\n",
       "</style>\n",
       "<table border=\"1\" class=\"dataframe\">\n",
       "  <thead>\n",
       "    <tr style=\"text-align: right;\">\n",
       "      <th></th>\n",
       "      <th>Brand name</th>\n",
       "      <th>More info</th>\n",
       "    </tr>\n",
       "  </thead>\n",
       "  <tbody>\n",
       "    <tr>\n",
       "      <th>0</th>\n",
       "      <td>Alchemy</td>\n",
       "      <td>https://www.evolab.com/</td>\n",
       "    </tr>\n",
       "    <tr>\n",
       "      <th>1</th>\n",
       "      <td>Avenue</td>\n",
       "      <td>https://www.avenueflowerco.com/#!</td>\n",
       "    </tr>\n",
       "    <tr>\n",
       "      <th>2</th>\n",
       "      <td>Co2lors</td>\n",
       "      <td>https://www.trulieve.com/brands/co2lors</td>\n",
       "    </tr>\n",
       "    <tr>\n",
       "      <th>3</th>\n",
       "      <td>Cultivar Collection</td>\n",
       "      <td>https://www.trulieve.com/brands/cultivar-colle...</td>\n",
       "    </tr>\n",
       "    <tr>\n",
       "      <th>4</th>\n",
       "      <td>Loveli</td>\n",
       "      <td>https://www.loveliedibles.com/</td>\n",
       "    </tr>\n",
       "    <tr>\n",
       "      <th>5</th>\n",
       "      <td>Modern Flower</td>\n",
       "      <td>https://www.trulieve.com/brands/modern-flower</td>\n",
       "    </tr>\n",
       "    <tr>\n",
       "      <th>6</th>\n",
       "      <td>Momenta</td>\n",
       "      <td>https://www.trulieve.com/brands/momenta</td>\n",
       "    </tr>\n",
       "    <tr>\n",
       "      <th>7</th>\n",
       "      <td>Muse</td>\n",
       "      <td>https://www.trulieve.com/brands/muse</td>\n",
       "    </tr>\n",
       "    <tr>\n",
       "      <th>8</th>\n",
       "      <td>Roll One</td>\n",
       "      <td>https://www.trulieve.com/brands/roll-one</td>\n",
       "    </tr>\n",
       "    <tr>\n",
       "      <th>9</th>\n",
       "      <td>Sweet Talk</td>\n",
       "      <td>https://www.trulieve.com/brands/sweet-talk</td>\n",
       "    </tr>\n",
       "    <tr>\n",
       "      <th>10</th>\n",
       "      <td>Trekkers</td>\n",
       "      <td>https://shop.trulieve.com/dispensaries/#pick-up</td>\n",
       "    </tr>\n",
       "  </tbody>\n",
       "</table>\n",
       "</div>"
      ],
      "text/plain": [
       "             Brand name                                          More info\n",
       "0               Alchemy                            https://www.evolab.com/\n",
       "1                Avenue                  https://www.avenueflowerco.com/#!\n",
       "2               Co2lors            https://www.trulieve.com/brands/co2lors\n",
       "3   Cultivar Collection  https://www.trulieve.com/brands/cultivar-colle...\n",
       "4                Loveli                     https://www.loveliedibles.com/\n",
       "5         Modern Flower      https://www.trulieve.com/brands/modern-flower\n",
       "6               Momenta            https://www.trulieve.com/brands/momenta\n",
       "7                  Muse               https://www.trulieve.com/brands/muse\n",
       "8              Roll One           https://www.trulieve.com/brands/roll-one\n",
       "9            Sweet Talk         https://www.trulieve.com/brands/sweet-talk\n",
       "10             Trekkers    https://shop.trulieve.com/dispensaries/#pick-up"
      ]
     },
     "execution_count": 41,
     "metadata": {},
     "output_type": "execute_result"
    }
   ],
   "source": [
    "df = pd.DataFrame(records, columns = [\"Brand name\", \"More info\"])\n",
    "df"
   ]
  },
  {
   "cell_type": "code",
   "execution_count": null,
   "metadata": {},
   "outputs": [],
   "source": []
  }
 ],
 "metadata": {
  "kernelspec": {
   "display_name": "Python 3.10.7 64-bit",
   "language": "python",
   "name": "python3"
  },
  "language_info": {
   "codemirror_mode": {
    "name": "ipython",
    "version": 3
   },
   "file_extension": ".py",
   "mimetype": "text/x-python",
   "name": "python",
   "nbconvert_exporter": "python",
   "pygments_lexer": "ipython3",
   "version": "3.10.7"
  },
  "orig_nbformat": 4,
  "vscode": {
   "interpreter": {
    "hash": "76d7c06053c3456e5600312cec90888656fc0ed30c03d8425b9dac6e4fc8e014"
   }
  }
 },
 "nbformat": 4,
 "nbformat_minor": 2
}
