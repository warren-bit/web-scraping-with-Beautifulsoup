{
 "cells": [
  {
   "cell_type": "code",
   "execution_count": 1,
   "metadata": {},
   "outputs": [],
   "source": [
    "from bs4 import BeautifulSoup\n",
    "from urllib import request\n",
    "import requests\n",
    "import pandas as pd\n",
    "import numpy as np"
   ]
  },
  {
   "cell_type": "code",
   "execution_count": 2,
   "metadata": {},
   "outputs": [],
   "source": [
    "url = \"https://www.jumia.co.ke/catalog/?q=smart+tvs\"\n",
    "r = requests.get(url)"
   ]
  },
  {
   "cell_type": "code",
   "execution_count": 3,
   "metadata": {},
   "outputs": [
    {
     "data": {
      "text/plain": [
       "'<!DOCTYPE html><html lang=\"en\" dir=\"ltr\"><head><meta charset=\"utf-8\" /><title> Shop &amp; Buy Online | Jumia Kenya</title><meta property=\"og:type\" content=\"product\" /><meta property=\"og:site_name\" content=\"Jumia Kenya\" /><meta property=\"og:title\" content=\" Shop &amp; Buy Online | Jumia Kenya\" /><meta property=\"og:url\" content=\"/catalog/\" /><meta property=\"og:image\" content=\"https://ke.jumia.is/cms/icons/jumialogo-x-4.png\" /><meta property=\"og:locale\" content=\"en_KE\" /><meta name=\"title\" content='"
      ]
     },
     "execution_count": 3,
     "metadata": {},
     "output_type": "execute_result"
    }
   ],
   "source": [
    "# prints the first 500 characters of the html doc\n",
    "r.text[0:500]"
   ]
  },
  {
   "cell_type": "code",
   "execution_count": 4,
   "metadata": {},
   "outputs": [],
   "source": [
    "soup = BeautifulSoup(r.text, \"html.parser\")"
   ]
  },
  {
   "cell_type": "code",
   "execution_count": 5,
   "metadata": {},
   "outputs": [
    {
     "data": {
      "text/plain": [
       "48"
      ]
     },
     "execution_count": 5,
     "metadata": {},
     "output_type": "execute_result"
    }
   ],
   "source": [
    "Tv_items = soup.find_all(\"div\", attrs= {\"class\": \"info\"})\n",
    "len(Tv_items) "
   ]
  },
  {
   "cell_type": "markdown",
   "metadata": {},
   "source": [
    "### Extracting The Tv Name"
   ]
  },
  {
   "cell_type": "code",
   "execution_count": 6,
   "metadata": {},
   "outputs": [
    {
     "data": {
      "text/plain": [
       "<div class=\"info\"><h3 class=\"name\">Vitron HTC3200S,32 Inch FRAMELESS Smart Android TV Netflix,Youtube+FREE TVGuard+Bracket</h3><div class=\"prc\">KSh 13,998</div><div class=\"s-prc-w\"><div class=\"old\">KSh 25,000</div><div class=\"bdg _dsct _sm\">44%</div></div><p class=\"mpg\" data-prc=\"KSh 13,998\" data-tot=\"3\">offers from</p><div class=\"rev\"><div class=\"stars _s\">4.3 out of 5<div class=\"in\" style=\"width:86%\"></div></div>(439)</div><svg aria-label=\"Express Shipping\" class=\"ic xprss\" height=\"10\" viewbox=\"0 0 114 12\" width=\"94\"><use xlink:href=\"https://www.jumia.co.ke/assets_he/images/i-shop-jumia.85ab1fc3.svg#express\"></use></svg><p class=\"shipp\">Eligible for free delivery for orders above Ksh 999 in Nairobi, Kiambu, and Mombasa (excluding medium and large items)</p></div>"
      ]
     },
     "execution_count": 6,
     "metadata": {},
     "output_type": "execute_result"
    }
   ],
   "source": [
    "# printing the first item\n",
    "first_item = Tv_items[0]\n",
    "first_item"
   ]
  },
  {
   "cell_type": "code",
   "execution_count": 7,
   "metadata": {},
   "outputs": [
    {
     "data": {
      "text/plain": [
       "<h3 class=\"name\">Vitron HTC3200S,32 Inch FRAMELESS Smart Android TV Netflix,Youtube+FREE TVGuard+Bracket</h3>"
      ]
     },
     "execution_count": 7,
     "metadata": {},
     "output_type": "execute_result"
    }
   ],
   "source": [
    "first_item.find(\"h3\")"
   ]
  },
  {
   "cell_type": "code",
   "execution_count": 8,
   "metadata": {},
   "outputs": [
    {
     "data": {
      "text/plain": [
       "'Vitron HTC3200S,32 Inch FRAMELESS Smart Android TV Netflix,Youtube+FREE TVGuard+Bracket'"
      ]
     },
     "execution_count": 8,
     "metadata": {},
     "output_type": "execute_result"
    }
   ],
   "source": [
    "# Ectracting the name as a string\n",
    "first_item.find(\"h3\").text"
   ]
  },
  {
   "cell_type": "markdown",
   "metadata": {},
   "source": [
    "### Extracting the old and new price"
   ]
  },
  {
   "cell_type": "code",
   "execution_count": 9,
   "metadata": {},
   "outputs": [
    {
     "data": {
      "text/plain": [
       "<div class=\"info\"><h3 class=\"name\">Vitron HTC3200S,32 Inch FRAMELESS Smart Android TV Netflix,Youtube+FREE TVGuard+Bracket</h3><div class=\"prc\">KSh 13,998</div><div class=\"s-prc-w\"><div class=\"old\">KSh 25,000</div><div class=\"bdg _dsct _sm\">44%</div></div><p class=\"mpg\" data-prc=\"KSh 13,998\" data-tot=\"3\">offers from</p><div class=\"rev\"><div class=\"stars _s\">4.3 out of 5<div class=\"in\" style=\"width:86%\"></div></div>(439)</div><svg aria-label=\"Express Shipping\" class=\"ic xprss\" height=\"10\" viewbox=\"0 0 114 12\" width=\"94\"><use xlink:href=\"https://www.jumia.co.ke/assets_he/images/i-shop-jumia.85ab1fc3.svg#express\"></use></svg><p class=\"shipp\">Eligible for free delivery for orders above Ksh 999 in Nairobi, Kiambu, and Mombasa (excluding medium and large items)</p></div>"
      ]
     },
     "execution_count": 9,
     "metadata": {},
     "output_type": "execute_result"
    }
   ],
   "source": [
    "first_item"
   ]
  },
  {
   "cell_type": "code",
   "execution_count": 10,
   "metadata": {},
   "outputs": [
    {
     "data": {
      "text/plain": [
       "<div class=\"prc\">KSh 13,998</div>"
      ]
     },
     "execution_count": 10,
     "metadata": {},
     "output_type": "execute_result"
    }
   ],
   "source": [
    "first_item.find(\"div\", attrs={\"class\": \"prc\"})"
   ]
  },
  {
   "cell_type": "code",
   "execution_count": 11,
   "metadata": {},
   "outputs": [
    {
     "data": {
      "text/plain": [
       "'KSh 13,998'"
      ]
     },
     "execution_count": 11,
     "metadata": {},
     "output_type": "execute_result"
    }
   ],
   "source": [
    "new_price = first_item.find(\"div\", attrs={\"class\": \"prc\"}).text\n",
    "new_price"
   ]
  },
  {
   "cell_type": "code",
   "execution_count": 12,
   "metadata": {},
   "outputs": [
    {
     "data": {
      "text/plain": [
       "'KSh 25,000'"
      ]
     },
     "execution_count": 12,
     "metadata": {},
     "output_type": "execute_result"
    }
   ],
   "source": [
    "old_price = first_item.find(\"div\", attrs={\"class\": \"old\"}).text\n",
    "old_price"
   ]
  },
  {
   "cell_type": "markdown",
   "metadata": {},
   "source": [
    "### Extracting the price drop"
   ]
  },
  {
   "cell_type": "code",
   "execution_count": 13,
   "metadata": {},
   "outputs": [
    {
     "data": {
      "text/plain": [
       "<div class=\"info\"><h3 class=\"name\">Vitron HTC3200S,32 Inch FRAMELESS Smart Android TV Netflix,Youtube+FREE TVGuard+Bracket</h3><div class=\"prc\">KSh 13,998</div><div class=\"s-prc-w\"><div class=\"old\">KSh 25,000</div><div class=\"bdg _dsct _sm\">44%</div></div><p class=\"mpg\" data-prc=\"KSh 13,998\" data-tot=\"3\">offers from</p><div class=\"rev\"><div class=\"stars _s\">4.3 out of 5<div class=\"in\" style=\"width:86%\"></div></div>(439)</div><svg aria-label=\"Express Shipping\" class=\"ic xprss\" height=\"10\" viewbox=\"0 0 114 12\" width=\"94\"><use xlink:href=\"https://www.jumia.co.ke/assets_he/images/i-shop-jumia.85ab1fc3.svg#express\"></use></svg><p class=\"shipp\">Eligible for free delivery for orders above Ksh 999 in Nairobi, Kiambu, and Mombasa (excluding medium and large items)</p></div>"
      ]
     },
     "execution_count": 13,
     "metadata": {},
     "output_type": "execute_result"
    }
   ],
   "source": [
    "first_item"
   ]
  },
  {
   "cell_type": "code",
   "execution_count": 14,
   "metadata": {},
   "outputs": [
    {
     "data": {
      "text/plain": [
       "<div class=\"bdg _dsct _sm\">44%</div>"
      ]
     },
     "execution_count": 14,
     "metadata": {},
     "output_type": "execute_result"
    }
   ],
   "source": [
    "first_item.find(\"div\", attrs={\"class\": \"bdg _dsct _sm\"})"
   ]
  },
  {
   "cell_type": "code",
   "execution_count": 15,
   "metadata": {},
   "outputs": [
    {
     "data": {
      "text/plain": [
       "'44%'"
      ]
     },
     "execution_count": 15,
     "metadata": {},
     "output_type": "execute_result"
    }
   ],
   "source": [
    "price_drop = first_item.find(\"div\", attrs={\"class\": \"bdg _dsct _sm\"}).text\n",
    "price_drop"
   ]
  },
  {
   "cell_type": "code",
   "execution_count": 16,
   "metadata": {},
   "outputs": [
    {
     "data": {
      "text/plain": [
       "<p class=\"mpg\" data-prc=\"KSh 13,998\" data-tot=\"3\">offers from</p>"
      ]
     },
     "execution_count": 16,
     "metadata": {},
     "output_type": "execute_result"
    }
   ],
   "source": [
    "first_item.find(\"p\")"
   ]
  },
  {
   "cell_type": "code",
   "execution_count": 17,
   "metadata": {},
   "outputs": [],
   "source": [
    "shipping_info = first_item.find(\"p\").text"
   ]
  },
  {
   "cell_type": "code",
   "execution_count": 18,
   "metadata": {},
   "outputs": [],
   "source": [
    "# Looping through each Tv item in the webpage\n",
    "records = []\n",
    "for item in Tv_items:\n",
    "    item_name = item.find(\"h3\").text\n",
    "    current_price = item.find(\"div\", attrs={\"class\": \"prc\"}).text\n",
    "    # old_price = item.find(\"div\", attrs={\"class\": \"old\"}).text\n",
    "    # price_drop = item.find(\"div\", attrs={\"class\": \"bdg _dsct _sm\"}).text\n",
    "    # info = item.find(\"p\").text\n",
    "    records.append((item_name,current_price,))"
   ]
  },
  {
   "cell_type": "code",
   "execution_count": 19,
   "metadata": {},
   "outputs": [
    {
     "data": {
      "text/plain": [
       "48"
      ]
     },
     "execution_count": 19,
     "metadata": {},
     "output_type": "execute_result"
    }
   ],
   "source": [
    "len(records)"
   ]
  },
  {
   "cell_type": "code",
   "execution_count": 20,
   "metadata": {},
   "outputs": [
    {
     "data": {
      "text/plain": [
       "[('Vitron HTC3200S,32 Inch FRAMELESS Smart Android TV Netflix,Youtube+FREE TVGuard+Bracket',\n",
       "  'KSh 13,998'),\n",
       " ('WEYON 32 Inch  Android Smart LED TV - Black', 'KSh 13,190'),\n",
       " ('VON VEL32HSVF, 32\" LED TV HD Ready Smart TV - Black + FREE Reflective Jacket & Hand Fan',\n",
       "  'KSh 12,999')]"
      ]
     },
     "execution_count": 20,
     "metadata": {},
     "output_type": "execute_result"
    }
   ],
   "source": [
    "# The first 3 data tuples\n",
    "records[0:3]"
   ]
  },
  {
   "cell_type": "code",
   "execution_count": 21,
   "metadata": {},
   "outputs": [
    {
     "data": {
      "text/html": [
       "<div>\n",
       "<style scoped>\n",
       "    .dataframe tbody tr th:only-of-type {\n",
       "        vertical-align: middle;\n",
       "    }\n",
       "\n",
       "    .dataframe tbody tr th {\n",
       "        vertical-align: top;\n",
       "    }\n",
       "\n",
       "    .dataframe thead th {\n",
       "        text-align: right;\n",
       "    }\n",
       "</style>\n",
       "<table border=\"1\" class=\"dataframe\">\n",
       "  <thead>\n",
       "    <tr style=\"text-align: right;\">\n",
       "      <th></th>\n",
       "      <th>Tv Brand</th>\n",
       "      <th>Current Price</th>\n",
       "    </tr>\n",
       "  </thead>\n",
       "  <tbody>\n",
       "    <tr>\n",
       "      <th>0</th>\n",
       "      <td>Vitron HTC3200S,32 Inch FRAMELESS Smart Androi...</td>\n",
       "      <td>KSh 13,998</td>\n",
       "    </tr>\n",
       "    <tr>\n",
       "      <th>1</th>\n",
       "      <td>WEYON 32 Inch  Android Smart LED TV - Black</td>\n",
       "      <td>KSh 13,190</td>\n",
       "    </tr>\n",
       "    <tr>\n",
       "      <th>2</th>\n",
       "      <td>VON VEL32HSVF, 32\" LED TV HD Ready Smart TV - ...</td>\n",
       "      <td>KSh 12,999</td>\n",
       "    </tr>\n",
       "    <tr>\n",
       "      <th>3</th>\n",
       "      <td>Vitron 4368FS,43\" Inch FHD Smart Android TV Ne...</td>\n",
       "      <td>KSh 24,599</td>\n",
       "    </tr>\n",
       "    <tr>\n",
       "      <th>4</th>\n",
       "      <td>TRINITY TR-3258S 32\" Inch Smart Android TV Net...</td>\n",
       "      <td>KSh 12,999</td>\n",
       "    </tr>\n",
       "    <tr>\n",
       "      <th>5</th>\n",
       "      <td>Vitron 4368FS,43\" Inch Smart Android TV 1GBRAM...</td>\n",
       "      <td>KSh 24,999</td>\n",
       "    </tr>\n",
       "    <tr>\n",
       "      <th>6</th>\n",
       "      <td>Vitron Smart 32\" FRAMELESS  Android TV HTC3200...</td>\n",
       "      <td>KSh 12,999</td>\n",
       "    </tr>\n",
       "    <tr>\n",
       "      <th>7</th>\n",
       "      <td>Vitron 4068 40\" SMART ANDROID TV, NETFLIX, YOU...</td>\n",
       "      <td>KSh 18,595</td>\n",
       "    </tr>\n",
       "    <tr>\n",
       "      <th>8</th>\n",
       "      <td>Vitron 43\" Inch Full HD Smart Android TV + FRE...</td>\n",
       "      <td>KSh 22,899</td>\n",
       "    </tr>\n",
       "    <tr>\n",
       "      <th>9</th>\n",
       "      <td>Vitron HTC3200S,32\" Inch Frameless Smart Andro...</td>\n",
       "      <td>KSh 13,899</td>\n",
       "    </tr>\n",
       "  </tbody>\n",
       "</table>\n",
       "</div>"
      ],
      "text/plain": [
       "                                            Tv Brand Current Price\n",
       "0  Vitron HTC3200S,32 Inch FRAMELESS Smart Androi...    KSh 13,998\n",
       "1        WEYON 32 Inch  Android Smart LED TV - Black    KSh 13,190\n",
       "2  VON VEL32HSVF, 32\" LED TV HD Ready Smart TV - ...    KSh 12,999\n",
       "3  Vitron 4368FS,43\" Inch FHD Smart Android TV Ne...    KSh 24,599\n",
       "4  TRINITY TR-3258S 32\" Inch Smart Android TV Net...    KSh 12,999\n",
       "5  Vitron 4368FS,43\" Inch Smart Android TV 1GBRAM...    KSh 24,999\n",
       "6  Vitron Smart 32\" FRAMELESS  Android TV HTC3200...    KSh 12,999\n",
       "7  Vitron 4068 40\" SMART ANDROID TV, NETFLIX, YOU...    KSh 18,595\n",
       "8  Vitron 43\" Inch Full HD Smart Android TV + FRE...    KSh 22,899\n",
       "9  Vitron HTC3200S,32\" Inch Frameless Smart Andro...    KSh 13,899"
      ]
     },
     "execution_count": 21,
     "metadata": {},
     "output_type": "execute_result"
    }
   ],
   "source": [
    "# putting the data into a dataframe\n",
    "df = pd.DataFrame(records, columns = [\"Tv Brand\",\"Current Price\"])\n",
    "df.head(10)"
   ]
  },
  {
   "cell_type": "code",
   "execution_count": 22,
   "metadata": {},
   "outputs": [
    {
     "data": {
      "text/html": [
       "<div>\n",
       "<style scoped>\n",
       "    .dataframe tbody tr th:only-of-type {\n",
       "        vertical-align: middle;\n",
       "    }\n",
       "\n",
       "    .dataframe tbody tr th {\n",
       "        vertical-align: top;\n",
       "    }\n",
       "\n",
       "    .dataframe thead th {\n",
       "        text-align: right;\n",
       "    }\n",
       "</style>\n",
       "<table border=\"1\" class=\"dataframe\">\n",
       "  <thead>\n",
       "    <tr style=\"text-align: right;\">\n",
       "      <th></th>\n",
       "      <th>Tv Brand</th>\n",
       "      <th>Current Price</th>\n",
       "    </tr>\n",
       "  </thead>\n",
       "  <tbody>\n",
       "    <tr>\n",
       "      <th>0</th>\n",
       "      <td>Vitron HTC3200S,32 Inch FRAMELESS Smart Androi...</td>\n",
       "      <td>KSh 13,998</td>\n",
       "    </tr>\n",
       "    <tr>\n",
       "      <th>1</th>\n",
       "      <td>WEYON 32 Inch  Android Smart LED TV - Black</td>\n",
       "      <td>KSh 13,190</td>\n",
       "    </tr>\n",
       "    <tr>\n",
       "      <th>2</th>\n",
       "      <td>VON VEL32HSVF, 32\" LED TV HD Ready Smart TV - ...</td>\n",
       "      <td>KSh 12,999</td>\n",
       "    </tr>\n",
       "    <tr>\n",
       "      <th>3</th>\n",
       "      <td>Vitron 4368FS,43\" Inch FHD Smart Android TV Ne...</td>\n",
       "      <td>KSh 24,599</td>\n",
       "    </tr>\n",
       "    <tr>\n",
       "      <th>4</th>\n",
       "      <td>TRINITY TR-3258S 32\" Inch Smart Android TV Net...</td>\n",
       "      <td>KSh 12,999</td>\n",
       "    </tr>\n",
       "    <tr>\n",
       "      <th>5</th>\n",
       "      <td>Vitron 4368FS,43\" Inch Smart Android TV 1GBRAM...</td>\n",
       "      <td>KSh 24,999</td>\n",
       "    </tr>\n",
       "    <tr>\n",
       "      <th>6</th>\n",
       "      <td>Vitron Smart 32\" FRAMELESS  Android TV HTC3200...</td>\n",
       "      <td>KSh 12,999</td>\n",
       "    </tr>\n",
       "    <tr>\n",
       "      <th>7</th>\n",
       "      <td>Vitron 4068 40\" SMART ANDROID TV, NETFLIX, YOU...</td>\n",
       "      <td>KSh 18,595</td>\n",
       "    </tr>\n",
       "    <tr>\n",
       "      <th>8</th>\n",
       "      <td>Vitron 43\" Inch Full HD Smart Android TV + FRE...</td>\n",
       "      <td>KSh 22,899</td>\n",
       "    </tr>\n",
       "    <tr>\n",
       "      <th>9</th>\n",
       "      <td>Vitron HTC3200S,32\" Inch Frameless Smart Andro...</td>\n",
       "      <td>KSh 13,899</td>\n",
       "    </tr>\n",
       "    <tr>\n",
       "      <th>10</th>\n",
       "      <td>Vitron HTC3200S FRAMELESS 32\" Inches Smart And...</td>\n",
       "      <td>KSh 14,599</td>\n",
       "    </tr>\n",
       "    <tr>\n",
       "      <th>11</th>\n",
       "      <td>Vitron 40\" Inch Smart Android TV WIFI Netflix,...</td>\n",
       "      <td>KSh 21,899</td>\n",
       "    </tr>\n",
       "    <tr>\n",
       "      <th>12</th>\n",
       "      <td>Vitron HTC4068S,40\" Inch Smart  TV  Inbuilt WI...</td>\n",
       "      <td>KSh 19,499</td>\n",
       "    </tr>\n",
       "    <tr>\n",
       "      <th>13</th>\n",
       "      <td>Vitron HTC3200S,32 Inch Frameless Smart Androi...</td>\n",
       "      <td>KSh 13,698</td>\n",
       "    </tr>\n",
       "    <tr>\n",
       "      <th>14</th>\n",
       "      <td>TRINITY TR-3258S 32\" Inch Smart Android TV Net...</td>\n",
       "      <td>KSh 14,399</td>\n",
       "    </tr>\n",
       "    <tr>\n",
       "      <th>15</th>\n",
       "      <td>Vitron 43 Inch Smart Android Television+FREE T...</td>\n",
       "      <td>KSh 22,999</td>\n",
       "    </tr>\n",
       "    <tr>\n",
       "      <th>16</th>\n",
       "      <td>Vitron HTC4068S,40\" Inch Smart Android HD TV N...</td>\n",
       "      <td>KSh 20,490</td>\n",
       "    </tr>\n",
       "    <tr>\n",
       "      <th>17</th>\n",
       "      <td>Vitron 4368FS,43''SMART Android FHD TV,Netflix...</td>\n",
       "      <td>KSh 21,896</td>\n",
       "    </tr>\n",
       "    <tr>\n",
       "      <th>18</th>\n",
       "      <td>Vitron 43\" Inch Full HD Smart Android TV 1GBRA...</td>\n",
       "      <td>KSh 22,399</td>\n",
       "    </tr>\n",
       "    <tr>\n",
       "      <th>19</th>\n",
       "      <td>Hifinit 32 Inch Frameless Android Smart HD LED...</td>\n",
       "      <td>KSh 15,699</td>\n",
       "    </tr>\n",
       "    <tr>\n",
       "      <th>20</th>\n",
       "      <td>Syinix 32E4M,32\" Inch Frameless LED Digital TV...</td>\n",
       "      <td>KSh 12,898</td>\n",
       "    </tr>\n",
       "    <tr>\n",
       "      <th>21</th>\n",
       "      <td>Skyworth 43\" 43E3A  FULL HD Frameless Smart An...</td>\n",
       "      <td>KSh 29,599</td>\n",
       "    </tr>\n",
       "    <tr>\n",
       "      <th>22</th>\n",
       "      <td>TRINITY TR-3258S 32\" Inch Smart Android TV Net...</td>\n",
       "      <td>KSh 14,599</td>\n",
       "    </tr>\n",
       "    <tr>\n",
       "      <th>23</th>\n",
       "      <td>Vitron 4368FS,43\" Inches FHD Smart Android TV,...</td>\n",
       "      <td>KSh 22,274</td>\n",
       "    </tr>\n",
       "    <tr>\n",
       "      <th>24</th>\n",
       "      <td>TRINITY TR-3258S 32\" Inches Smart Android TV N...</td>\n",
       "      <td>KSh 13,499</td>\n",
       "    </tr>\n",
       "    <tr>\n",
       "      <th>25</th>\n",
       "      <td>Vitron 50\" Inch SMART Android TV,FRAMELESS,FHD...</td>\n",
       "      <td>KSh 60,000</td>\n",
       "    </tr>\n",
       "    <tr>\n",
       "      <th>26</th>\n",
       "      <td>VIXOO IN-0132ZS,32\" Inch SMART Android TV,Blue...</td>\n",
       "      <td>KSh 13,299</td>\n",
       "    </tr>\n",
       "    <tr>\n",
       "      <th>27</th>\n",
       "      <td>Vitron 32\" Smart Android TV,NetFlix,USB&amp; HDMI ...</td>\n",
       "      <td>KSh 17,260</td>\n",
       "    </tr>\n",
       "    <tr>\n",
       "      <th>28</th>\n",
       "      <td>Vitron 32\"Inches Smart Android TV - Black + FR...</td>\n",
       "      <td>KSh 15,699</td>\n",
       "    </tr>\n",
       "    <tr>\n",
       "      <th>29</th>\n",
       "      <td>Vitron HTC4068S,40\" Inch Smart Android TV AppS...</td>\n",
       "      <td>KSh 20,499</td>\n",
       "    </tr>\n",
       "    <tr>\n",
       "      <th>30</th>\n",
       "      <td>Vitron 32\" Inch Smart Android Tv,Netflix,Youtu...</td>\n",
       "      <td>KSh 14,349</td>\n",
       "    </tr>\n",
       "    <tr>\n",
       "      <th>31</th>\n",
       "      <td>Vitron HTC3200S,Frameless 32 Inch Smart Androi...</td>\n",
       "      <td>KSh 15,299</td>\n",
       "    </tr>\n",
       "    <tr>\n",
       "      <th>32</th>\n",
       "      <td>Wyinix WY32F19D,32\"Inch FHD Frameless Smart An...</td>\n",
       "      <td>KSh 13,899</td>\n",
       "    </tr>\n",
       "    <tr>\n",
       "      <th>33</th>\n",
       "      <td>Vitron 32 Inch Smart Android TV Inbuilt WIFI,N...</td>\n",
       "      <td>KSh 13,599</td>\n",
       "    </tr>\n",
       "    <tr>\n",
       "      <th>34</th>\n",
       "      <td>Vitron 50\" Inch FRAMELESS BLUETOOTH INBUILT DE...</td>\n",
       "      <td>KSh 33,999</td>\n",
       "    </tr>\n",
       "    <tr>\n",
       "      <th>35</th>\n",
       "      <td>Vitron 50\" Inch FRAMELESS 4K UHD Android TV BL...</td>\n",
       "      <td>KSh 32,999</td>\n",
       "    </tr>\n",
       "    <tr>\n",
       "      <th>36</th>\n",
       "      <td>Vitron HTC4068S,40\" Inch Smart Android TV AppS...</td>\n",
       "      <td>KSh 21,698</td>\n",
       "    </tr>\n",
       "    <tr>\n",
       "      <th>37</th>\n",
       "      <td>Vitron 4368FS,43\" Inch Smart Android TV 1GBRAM...</td>\n",
       "      <td>KSh 22,999</td>\n",
       "    </tr>\n",
       "    <tr>\n",
       "      <th>38</th>\n",
       "      <td>Hifinit 32'' Inch Frameless Android Smart HD L...</td>\n",
       "      <td>KSh 14,111</td>\n",
       "    </tr>\n",
       "    <tr>\n",
       "      <th>39</th>\n",
       "      <td>Royal 39\" Full HD Ready Smart Android LED Tele...</td>\n",
       "      <td>KSh 17,295</td>\n",
       "    </tr>\n",
       "    <tr>\n",
       "      <th>40</th>\n",
       "      <td>NaN</td>\n",
       "      <td>NaN</td>\n",
       "    </tr>\n",
       "    <tr>\n",
       "      <th>41</th>\n",
       "      <td>NaN</td>\n",
       "      <td>NaN</td>\n",
       "    </tr>\n",
       "    <tr>\n",
       "      <th>42</th>\n",
       "      <td>NaN</td>\n",
       "      <td>NaN</td>\n",
       "    </tr>\n",
       "    <tr>\n",
       "      <th>43</th>\n",
       "      <td>NaN</td>\n",
       "      <td>NaN</td>\n",
       "    </tr>\n",
       "    <tr>\n",
       "      <th>44</th>\n",
       "      <td>NaN</td>\n",
       "      <td>NaN</td>\n",
       "    </tr>\n",
       "    <tr>\n",
       "      <th>45</th>\n",
       "      <td>NaN</td>\n",
       "      <td>NaN</td>\n",
       "    </tr>\n",
       "    <tr>\n",
       "      <th>46</th>\n",
       "      <td>NaN</td>\n",
       "      <td>NaN</td>\n",
       "    </tr>\n",
       "    <tr>\n",
       "      <th>47</th>\n",
       "      <td>NaN</td>\n",
       "      <td>NaN</td>\n",
       "    </tr>\n",
       "  </tbody>\n",
       "</table>\n",
       "</div>"
      ],
      "text/plain": [
       "                                             Tv Brand Current Price\n",
       "0   Vitron HTC3200S,32 Inch FRAMELESS Smart Androi...    KSh 13,998\n",
       "1         WEYON 32 Inch  Android Smart LED TV - Black    KSh 13,190\n",
       "2   VON VEL32HSVF, 32\" LED TV HD Ready Smart TV - ...    KSh 12,999\n",
       "3   Vitron 4368FS,43\" Inch FHD Smart Android TV Ne...    KSh 24,599\n",
       "4   TRINITY TR-3258S 32\" Inch Smart Android TV Net...    KSh 12,999\n",
       "5   Vitron 4368FS,43\" Inch Smart Android TV 1GBRAM...    KSh 24,999\n",
       "6   Vitron Smart 32\" FRAMELESS  Android TV HTC3200...    KSh 12,999\n",
       "7   Vitron 4068 40\" SMART ANDROID TV, NETFLIX, YOU...    KSh 18,595\n",
       "8   Vitron 43\" Inch Full HD Smart Android TV + FRE...    KSh 22,899\n",
       "9   Vitron HTC3200S,32\" Inch Frameless Smart Andro...    KSh 13,899\n",
       "10  Vitron HTC3200S FRAMELESS 32\" Inches Smart And...    KSh 14,599\n",
       "11  Vitron 40\" Inch Smart Android TV WIFI Netflix,...    KSh 21,899\n",
       "12  Vitron HTC4068S,40\" Inch Smart  TV  Inbuilt WI...    KSh 19,499\n",
       "13  Vitron HTC3200S,32 Inch Frameless Smart Androi...    KSh 13,698\n",
       "14  TRINITY TR-3258S 32\" Inch Smart Android TV Net...    KSh 14,399\n",
       "15  Vitron 43 Inch Smart Android Television+FREE T...    KSh 22,999\n",
       "16  Vitron HTC4068S,40\" Inch Smart Android HD TV N...    KSh 20,490\n",
       "17  Vitron 4368FS,43''SMART Android FHD TV,Netflix...    KSh 21,896\n",
       "18  Vitron 43\" Inch Full HD Smart Android TV 1GBRA...    KSh 22,399\n",
       "19  Hifinit 32 Inch Frameless Android Smart HD LED...    KSh 15,699\n",
       "20  Syinix 32E4M,32\" Inch Frameless LED Digital TV...    KSh 12,898\n",
       "21  Skyworth 43\" 43E3A  FULL HD Frameless Smart An...    KSh 29,599\n",
       "22  TRINITY TR-3258S 32\" Inch Smart Android TV Net...    KSh 14,599\n",
       "23  Vitron 4368FS,43\" Inches FHD Smart Android TV,...    KSh 22,274\n",
       "24  TRINITY TR-3258S 32\" Inches Smart Android TV N...    KSh 13,499\n",
       "25  Vitron 50\" Inch SMART Android TV,FRAMELESS,FHD...    KSh 60,000\n",
       "26  VIXOO IN-0132ZS,32\" Inch SMART Android TV,Blue...    KSh 13,299\n",
       "27  Vitron 32\" Smart Android TV,NetFlix,USB& HDMI ...    KSh 17,260\n",
       "28  Vitron 32\"Inches Smart Android TV - Black + FR...    KSh 15,699\n",
       "29  Vitron HTC4068S,40\" Inch Smart Android TV AppS...    KSh 20,499\n",
       "30  Vitron 32\" Inch Smart Android Tv,Netflix,Youtu...    KSh 14,349\n",
       "31  Vitron HTC3200S,Frameless 32 Inch Smart Androi...    KSh 15,299\n",
       "32  Wyinix WY32F19D,32\"Inch FHD Frameless Smart An...    KSh 13,899\n",
       "33  Vitron 32 Inch Smart Android TV Inbuilt WIFI,N...    KSh 13,599\n",
       "34  Vitron 50\" Inch FRAMELESS BLUETOOTH INBUILT DE...    KSh 33,999\n",
       "35  Vitron 50\" Inch FRAMELESS 4K UHD Android TV BL...    KSh 32,999\n",
       "36  Vitron HTC4068S,40\" Inch Smart Android TV AppS...    KSh 21,698\n",
       "37  Vitron 4368FS,43\" Inch Smart Android TV 1GBRAM...    KSh 22,999\n",
       "38  Hifinit 32'' Inch Frameless Android Smart HD L...    KSh 14,111\n",
       "39  Royal 39\" Full HD Ready Smart Android LED Tele...    KSh 17,295\n",
       "40                                                NaN           NaN\n",
       "41                                                NaN           NaN\n",
       "42                                                NaN           NaN\n",
       "43                                                NaN           NaN\n",
       "44                                                NaN           NaN\n",
       "45                                                NaN           NaN\n",
       "46                                                NaN           NaN\n",
       "47                                                NaN           NaN"
      ]
     },
     "execution_count": 22,
     "metadata": {},
     "output_type": "execute_result"
    }
   ],
   "source": [
    "#  setting the last 7 rows into NaN \n",
    "df[40:] = np.nan\n",
    "df"
   ]
  },
  {
   "cell_type": "code",
   "execution_count": 23,
   "metadata": {},
   "outputs": [],
   "source": [
    "# Removing the last seven rows\n",
    "df.dropna(inplace = True)"
   ]
  },
  {
   "cell_type": "code",
   "execution_count": 24,
   "metadata": {},
   "outputs": [
    {
     "data": {
      "text/html": [
       "<div>\n",
       "<style scoped>\n",
       "    .dataframe tbody tr th:only-of-type {\n",
       "        vertical-align: middle;\n",
       "    }\n",
       "\n",
       "    .dataframe tbody tr th {\n",
       "        vertical-align: top;\n",
       "    }\n",
       "\n",
       "    .dataframe thead th {\n",
       "        text-align: right;\n",
       "    }\n",
       "</style>\n",
       "<table border=\"1\" class=\"dataframe\">\n",
       "  <thead>\n",
       "    <tr style=\"text-align: right;\">\n",
       "      <th></th>\n",
       "      <th>Tv Brand</th>\n",
       "      <th>Current Price</th>\n",
       "    </tr>\n",
       "  </thead>\n",
       "  <tbody>\n",
       "    <tr>\n",
       "      <th>35</th>\n",
       "      <td>Vitron 50\" Inch FRAMELESS 4K UHD Android TV BL...</td>\n",
       "      <td>KSh 32,999</td>\n",
       "    </tr>\n",
       "    <tr>\n",
       "      <th>36</th>\n",
       "      <td>Vitron HTC4068S,40\" Inch Smart Android TV AppS...</td>\n",
       "      <td>KSh 21,698</td>\n",
       "    </tr>\n",
       "    <tr>\n",
       "      <th>37</th>\n",
       "      <td>Vitron 4368FS,43\" Inch Smart Android TV 1GBRAM...</td>\n",
       "      <td>KSh 22,999</td>\n",
       "    </tr>\n",
       "    <tr>\n",
       "      <th>38</th>\n",
       "      <td>Hifinit 32'' Inch Frameless Android Smart HD L...</td>\n",
       "      <td>KSh 14,111</td>\n",
       "    </tr>\n",
       "    <tr>\n",
       "      <th>39</th>\n",
       "      <td>Royal 39\" Full HD Ready Smart Android LED Tele...</td>\n",
       "      <td>KSh 17,295</td>\n",
       "    </tr>\n",
       "  </tbody>\n",
       "</table>\n",
       "</div>"
      ],
      "text/plain": [
       "                                             Tv Brand Current Price\n",
       "35  Vitron 50\" Inch FRAMELESS 4K UHD Android TV BL...    KSh 32,999\n",
       "36  Vitron HTC4068S,40\" Inch Smart Android TV AppS...    KSh 21,698\n",
       "37  Vitron 4368FS,43\" Inch Smart Android TV 1GBRAM...    KSh 22,999\n",
       "38  Hifinit 32'' Inch Frameless Android Smart HD L...    KSh 14,111\n",
       "39  Royal 39\" Full HD Ready Smart Android LED Tele...    KSh 17,295"
      ]
     },
     "execution_count": 24,
     "metadata": {},
     "output_type": "execute_result"
    }
   ],
   "source": [
    "df.tail()"
   ]
  },
  {
   "cell_type": "code",
   "execution_count": 25,
   "metadata": {},
   "outputs": [
    {
     "data": {
      "text/html": [
       "<div>\n",
       "<style scoped>\n",
       "    .dataframe tbody tr th:only-of-type {\n",
       "        vertical-align: middle;\n",
       "    }\n",
       "\n",
       "    .dataframe tbody tr th {\n",
       "        vertical-align: top;\n",
       "    }\n",
       "\n",
       "    .dataframe thead th {\n",
       "        text-align: right;\n",
       "    }\n",
       "</style>\n",
       "<table border=\"1\" class=\"dataframe\">\n",
       "  <thead>\n",
       "    <tr style=\"text-align: right;\">\n",
       "      <th></th>\n",
       "      <th>Tv Brand</th>\n",
       "    </tr>\n",
       "  </thead>\n",
       "  <tbody>\n",
       "    <tr>\n",
       "      <th>0</th>\n",
       "      <td>Vitron HTC3200S,32 Inch FRAMELESS Smart Androi...</td>\n",
       "    </tr>\n",
       "    <tr>\n",
       "      <th>1</th>\n",
       "      <td>WEYON 32 Inch  Android Smart LED TV - Black</td>\n",
       "    </tr>\n",
       "    <tr>\n",
       "      <th>2</th>\n",
       "      <td>VON VEL32HSVF, 32\" LED TV HD Ready Smart TV - ...</td>\n",
       "    </tr>\n",
       "    <tr>\n",
       "      <th>3</th>\n",
       "      <td>Vitron 4368FS,43\" Inch FHD Smart Android TV Ne...</td>\n",
       "    </tr>\n",
       "    <tr>\n",
       "      <th>4</th>\n",
       "      <td>TRINITY TR-3258S 32\" Inch Smart Android TV Net...</td>\n",
       "    </tr>\n",
       "    <tr>\n",
       "      <th>5</th>\n",
       "      <td>Vitron 4368FS,43\" Inch Smart Android TV 1GBRAM...</td>\n",
       "    </tr>\n",
       "    <tr>\n",
       "      <th>6</th>\n",
       "      <td>Vitron Smart 32\" FRAMELESS  Android TV HTC3200...</td>\n",
       "    </tr>\n",
       "    <tr>\n",
       "      <th>7</th>\n",
       "      <td>Vitron 4068 40\" SMART ANDROID TV, NETFLIX, YOU...</td>\n",
       "    </tr>\n",
       "    <tr>\n",
       "      <th>8</th>\n",
       "      <td>Vitron 43\" Inch Full HD Smart Android TV + FRE...</td>\n",
       "    </tr>\n",
       "    <tr>\n",
       "      <th>9</th>\n",
       "      <td>Vitron HTC3200S,32\" Inch Frameless Smart Andro...</td>\n",
       "    </tr>\n",
       "  </tbody>\n",
       "</table>\n",
       "</div>"
      ],
      "text/plain": [
       "                                            Tv Brand\n",
       "0  Vitron HTC3200S,32 Inch FRAMELESS Smart Androi...\n",
       "1        WEYON 32 Inch  Android Smart LED TV - Black\n",
       "2  VON VEL32HSVF, 32\" LED TV HD Ready Smart TV - ...\n",
       "3  Vitron 4368FS,43\" Inch FHD Smart Android TV Ne...\n",
       "4  TRINITY TR-3258S 32\" Inch Smart Android TV Net...\n",
       "5  Vitron 4368FS,43\" Inch Smart Android TV 1GBRAM...\n",
       "6  Vitron Smart 32\" FRAMELESS  Android TV HTC3200...\n",
       "7  Vitron 4068 40\" SMART ANDROID TV, NETFLIX, YOU...\n",
       "8  Vitron 43\" Inch Full HD Smart Android TV + FRE...\n",
       "9  Vitron HTC3200S,32\" Inch Frameless Smart Andro..."
      ]
     },
     "execution_count": 25,
     "metadata": {},
     "output_type": "execute_result"
    }
   ],
   "source": [
    "# printing the first row\n",
    "Brands = df.drop([\"Current Price\"],axis=1)\n",
    "Brands.head(10)"
   ]
  },
  {
   "cell_type": "code",
   "execution_count": 32,
   "metadata": {},
   "outputs": [],
   "source": [
    "df.to_csv(\"Tv prices from jumia.csv\", index= None)"
   ]
  },
  {
   "cell_type": "code",
   "execution_count": null,
   "metadata": {},
   "outputs": [],
   "source": []
  }
 ],
 "metadata": {
  "kernelspec": {
   "display_name": "Python 3 (ipykernel)",
   "language": "python",
   "name": "python3"
  },
  "language_info": {
   "codemirror_mode": {
    "name": "ipython",
    "version": 3
   },
   "file_extension": ".py",
   "mimetype": "text/x-python",
   "name": "python",
   "nbconvert_exporter": "python",
   "pygments_lexer": "ipython3",
   "version": "3.10.7"
  },
  "vscode": {
   "interpreter": {
    "hash": "76d7c06053c3456e5600312cec90888656fc0ed30c03d8425b9dac6e4fc8e014"
   }
  }
 },
 "nbformat": 4,
 "nbformat_minor": 2
}
